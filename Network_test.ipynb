{
 "cells": [
  {
   "cell_type": "code",
   "execution_count": 1,
   "metadata": {},
   "outputs": [],
   "source": [
    "config = {\n",
    "\n",
    "    \"structural_descriptor\":\n",
    "        {\"num_kernel\": 64, \"sigma\": 0.2},\n",
    "    \"mesh_convolution\": {\"aggregation_method\": 'Concat'},\n",
    "    \"mask_ratio\": 0.95,\n",
    "    \"dropout\": 0.5,\n",
    "    \"num_classes\": 8\n",
    "\n",
    "    }\n"
   ]
  },
  {
   "cell_type": "code",
   "execution_count": 2,
   "metadata": {},
   "outputs": [],
   "source": [
    "import torch\n",
    "from models import MeshNet\n",
    "import numpy as np"
   ]
  },
  {
   "cell_type": "code",
   "execution_count": 3,
   "metadata": {},
   "outputs": [
    {
     "name": "stdout",
     "output_type": "stream",
     "text": [
      "torch.Size([1, 3, 224884])\n",
      "torch.Size([1, 3, 224884])\n",
      "torch.Size([1, 9, 224884])\n",
      "torch.Size([1, 3, 224884])\n",
      "torch.Size([1, 224884, 3])\n"
     ]
    }
   ],
   "source": [
    "data_dir = '0a0f3b60/'\n",
    "centers = np.load(data_dir + 'centers.npy')\n",
    "faces = np.load(data_dir + 'faces.npy')\n",
    "corners = np.load(data_dir + 'corners.npy')\n",
    "normals = np.load(data_dir + 'normals.npy')\n",
    "neighbors = np.load(data_dir + 'neighbors.npy')\n",
    "face = torch.from_numpy(faces).type(torch.float32)\n",
    "centers = torch.from_numpy(centers).type(torch.float32)\n",
    "corners = torch.from_numpy(corners).type(torch.float32)\n",
    "normals = torch.from_numpy(normals).type(torch.float32)\n",
    "neighbors = torch.from_numpy(neighbors).type(torch.long)\n",
    "face = face.permute(1, 0).contiguous()\n",
    "face = face.unsqueeze(0)\n",
    "centers = centers.permute(1, 0).contiguous()\n",
    "centers = centers.unsqueeze(0)\n",
    "corners = corners.reshape(9, -1)\n",
    "corners = corners.unsqueeze(0)\n",
    "normals = normals.permute(1, 0).contiguous()\n",
    "normals = normals.unsqueeze(0)\n",
    "neighbors = neighbors.unsqueeze(0)\n",
    "print(face.shape)\n",
    "print(centers.shape)\n",
    "print(corners.shape)\n",
    "print(normals.shape)\n",
    "print(neighbors.shape)"
   ]
  },
  {
   "cell_type": "code",
   "execution_count": 5,
   "metadata": {},
   "outputs": [
    {
     "name": "stdout",
     "output_type": "stream",
     "text": [
      "Corners before squeezing\n",
      "torch.Size([1, 9, 224884])\n",
      "Corners before spatial_fea0\n",
      "torch.Size([1, 9, 224884])\n",
      "self.spatial_mlp(centers) size:\n",
      "torch.Size([1, 3, 224884])\n",
      "Corners before structural_fea0\n",
      "torch.Size([1, 9, 224884])\n",
      "FKR size:\n",
      "torch.Size([1, 9, 224884])\n"
     ]
    }
   ],
   "source": [
    "model = MeshNet(cfg = config)\n",
    "\n",
    "outputs = model(centers, corners, normals, neighbors)"
   ]
  },
  {
   "cell_type": "code",
   "execution_count": null,
   "metadata": {},
   "outputs": [],
   "source": []
  }
 ],
 "metadata": {
  "kernelspec": {
   "display_name": "venv",
   "language": "python",
   "name": "python3"
  },
  "language_info": {
   "codemirror_mode": {
    "name": "ipython",
    "version": 3
   },
   "file_extension": ".py",
   "mimetype": "text/x-python",
   "name": "python",
   "nbconvert_exporter": "python",
   "pygments_lexer": "ipython3",
   "version": "3.11.4"
  }
 },
 "nbformat": 4,
 "nbformat_minor": 2
}
