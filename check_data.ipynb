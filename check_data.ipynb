{
 "cells": [
  {
   "cell_type": "code",
   "execution_count": 6,
   "metadata": {},
   "outputs": [],
   "source": [
    "import numpy as np\n",
    "import json\n",
    "import torch"
   ]
  },
  {
   "cell_type": "code",
   "execution_count": 7,
   "metadata": {},
   "outputs": [
    {
     "name": "stdout",
     "output_type": "stream",
     "text": [
      "dict_keys(['name', 'class', 'link', 'vertices', 'faces', 'triangles', 'corners', 'centers', 'normals', 'neighbors', 'mesh'])\n",
      "/net/pr2/projects/plgrid/plggmiadl/ppichor/MeshNet/dataset/train/data/0a0f3b60/vertices.npy\n"
     ]
    }
   ],
   "source": [
    "json_content = json.load(open('0a0f3b60.json'))\n",
    "print(json_content.keys())\n",
    "print(json_content['vertices'])"
   ]
  },
  {
   "cell_type": "code",
   "execution_count": 21,
   "metadata": {},
   "outputs": [
    {
     "name": "stdout",
     "output_type": "stream",
     "text": [
      "torch.Size([1, 3, 224884])\n",
      "torch.Size([1, 3, 224884])\n",
      "torch.Size([1, 9, 224884])\n",
      "torch.Size([1, 3, 224884])\n",
      "torch.Size([1, 224884, 3])\n"
     ]
    }
   ],
   "source": [
    "data_dir = '0a0f3b60/'\n",
    "centers = np.load(data_dir + 'centers.npy')\n",
    "faces = np.load(data_dir + 'faces.npy')\n",
    "corners = np.load(data_dir + 'corners.npy')\n",
    "normals = np.load(data_dir + 'normals.npy')\n",
    "neighbors = np.load(data_dir + 'neighbors.npy')\n",
    "face = torch.from_numpy(faces).type(torch.float32)\n",
    "centers = torch.from_numpy(centers).type(torch.float32)\n",
    "corners = torch.from_numpy(corners).type(torch.float32)\n",
    "normals = torch.from_numpy(normals).type(torch.float32)\n",
    "neighbors = torch.from_numpy(neighbors).type(torch.long)\n",
    "face = face.permute(1, 0).contiguous()\n",
    "face = face.unsqueeze(0)\n",
    "centers = centers.permute(1, 0).contiguous()\n",
    "centers = centers.unsqueeze(0)\n",
    "corners = corners.reshape(9, -1)\n",
    "corners = corners.unsqueeze(0)\n",
    "normals = normals.permute(1, 0).contiguous()\n",
    "normals = normals.unsqueeze(0)\n",
    "neighbors = neighbors.unsqueeze(0)\n",
    "print(face.shape)\n",
    "print(centers.shape)\n",
    "print(corners.shape)\n",
    "print(normals.shape)\n",
    "print(neighbors.shape)"
   ]
  },
  {
   "cell_type": "code",
   "execution_count": null,
   "metadata": {},
   "outputs": [],
   "source": []
  }
 ],
 "metadata": {
  "kernelspec": {
   "display_name": "venv",
   "language": "python",
   "name": "python3"
  },
  "language_info": {
   "codemirror_mode": {
    "name": "ipython",
    "version": 3
   },
   "file_extension": ".py",
   "mimetype": "text/x-python",
   "name": "python",
   "nbconvert_exporter": "python",
   "pygments_lexer": "ipython3",
   "version": "3.11.4"
  }
 },
 "nbformat": 4,
 "nbformat_minor": 2
}
