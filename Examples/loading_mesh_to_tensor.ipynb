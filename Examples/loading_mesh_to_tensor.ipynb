{
 "cells": [
  {
   "cell_type": "markdown",
   "metadata": {},
   "source": [
    "# Loading mesh to tensor\n",
    "\n",
    "This example shows usage of 3D object - tensor interface. It can be used to load both *.stl* and *.obj* files and convert them into pytorch tensors."
   ]
  },
  {
   "cell_type": "code",
   "execution_count": 17,
   "metadata": {},
   "outputs": [],
   "source": [
    "import sys\n",
    "import os\n",
    "import torch\n",
    "import trimesh\n",
    "\n",
    "module_path = os.path.abspath(os.path.join('..', 'object-tensor-interface'))\n",
    "sys.path.append(module_path)\n",
    "from meshread import Mesh"
   ]
  },
  {
   "cell_type": "markdown",
   "metadata": {},
   "source": [
    "## Mesh tensor generation\n",
    "\n",
    "Mesh class is a member of meshread package. It has methods to get different tensors for different needs:\n",
    "\n",
    "- .get_faces(): output is a list consisting of faces. Each face is a list of vertex IDs - so for example first face is [0, 1, 2]. It means that this face has three corners - three elements of vertices tensor with index 0, 1 and 2. It has information about wich corners are in which face, it doesn't have any dimensions here, more like mesh organization.\n",
    "- .get_vertices(): output is a list consisting of vertices location. Every element of this tensor is a list of three dimensions: x, y and z parameters of a single vortex.\n",
    "- .get_corners(): output is a list consisting of triangles. Each element of the tensor is a list of vortices, and every vortex is a list of x, y and z params. Structure of this tensor is almost like *.stl* file structure, but without normal vector. Basically a list of all corner coordinates, grouped by the face they create.\n",
    "- .get_path(): returns a path to object, just in case\n",
    "- .get_centers(): returns a list consisting of geometric centers of faces. Each element is a list of x, y and z coordinates of a center.\n",
    "- .get_normals(): returns a list consisting of normal vectors of each face.\n",
    "- .get_triangulated_faces(): returns a list of faces, but converted from different shapes to triangle shape"
   ]
  },
  {
   "cell_type": "code",
   "execution_count": 18,
   "metadata": {},
   "outputs": [],
   "source": [
    "mesh = Mesh('Eiffel_Tower.stl') #Eiffel Tower from https://ozeki.hu/p_1116-sample-stl-files-you-can-use-for-testing.html"
   ]
  },
  {
   "cell_type": "code",
   "execution_count": 26,
   "metadata": {},
   "outputs": [
    {
     "data": {
      "text/plain": [
       "[[0, 1, 2],\n",
       " [3, 4, 5],\n",
       " [6, 7, 8],\n",
       " [9, 10, 11],\n",
       " [12, 13, 14],\n",
       " [15, 16, 17],\n",
       " [18, 19, 20],\n",
       " [21, 22, 23],\n",
       " [24, 25, 26],\n",
       " [27, 28, 29]]"
      ]
     },
     "execution_count": 26,
     "metadata": {},
     "output_type": "execute_result"
    }
   ],
   "source": [
    "mesh.get_faces()[:10]"
   ]
  },
  {
   "cell_type": "code",
   "execution_count": 27,
   "metadata": {},
   "outputs": [
    {
     "data": {
      "text/plain": [
       "[[-15.01741, 5.467951, 24.88822],\n",
       " [-15.01741, 3.843249, 24.88822],\n",
       " [-14.77975, 5.467951, 24.88822],\n",
       " [-14.77975, 5.467951, 24.88822],\n",
       " [-15.01741, 3.843249, 24.88822],\n",
       " [-14.77975, 3.843249, 24.88822],\n",
       " [-6.764211, 0.1188298, 24.88822],\n",
       " [-6.764211, 1.782447, 24.88822],\n",
       " [-7.001871, 0.1188298, 24.88822],\n",
       " [-7.001871, 0.1188298, 24.88822]]"
      ]
     },
     "execution_count": 27,
     "metadata": {},
     "output_type": "execute_result"
    }
   ],
   "source": [
    "mesh.get_vertices()[:10]"
   ]
  },
  {
   "cell_type": "code",
   "execution_count": 21,
   "metadata": {},
   "outputs": [
    {
     "data": {
      "text/plain": [
       "'Eiffel_Tower.stl'"
      ]
     },
     "execution_count": 21,
     "metadata": {},
     "output_type": "execute_result"
    }
   ],
   "source": [
    "mesh.get_path()"
   ]
  },
  {
   "cell_type": "code",
   "execution_count": 28,
   "metadata": {},
   "outputs": [
    {
     "data": {
      "text/plain": [
       "[[-14.93819, 4.926383666666666, 24.88822],\n",
       " [-14.85897, 4.384816333333333, 24.88822],\n",
       " [-6.843431, 0.6733688666666667, 24.88822],\n",
       " [-6.922651000000001, 1.2279079333333334, 24.88822],\n",
       " [14.938189999999999, 4.384816333333333, 24.88822],\n",
       " [-14.93819, 1.2018636666666667, 24.88822],\n",
       " [-14.85897, 0.6604963333333334, 24.88822],\n",
       " [14.93819, -4.926383, 24.88822],\n",
       " [14.85897, -4.384816, 24.88822],\n",
       " [6.843431, -0.6733688666666667, 24.88822]]"
      ]
     },
     "execution_count": 28,
     "metadata": {},
     "output_type": "execute_result"
    }
   ],
   "source": [
    "mesh.get_centers()[:10]"
   ]
  },
  {
   "cell_type": "code",
   "execution_count": 29,
   "metadata": {},
   "outputs": [
    {
     "data": {
      "text/plain": [
       "[[[-15.01741, 5.467951, 24.88822],\n",
       "  [-15.01741, 3.843249, 24.88822],\n",
       "  [-14.77975, 5.467951, 24.88822]],\n",
       " [[-14.77975, 5.467951, 24.88822],\n",
       "  [-15.01741, 3.843249, 24.88822],\n",
       "  [-14.77975, 3.843249, 24.88822]],\n",
       " [[-6.764211, 0.1188298, 24.88822],\n",
       "  [-6.764211, 1.782447, 24.88822],\n",
       "  [-7.001871, 0.1188298, 24.88822]],\n",
       " [[-7.001871, 0.1188298, 24.88822],\n",
       "  [-6.764211, 1.782447, 24.88822],\n",
       "  [-7.001871, 1.782447, 24.88822]],\n",
       " [[14.77975, 3.843249, 24.88822],\n",
       "  [15.01741, 3.843249, 24.88822],\n",
       "  [15.01741, 5.467951, 24.88822]],\n",
       " [[-15.01741, 1.743231, 24.88822],\n",
       "  [-15.01741, 0.119129, 24.88822],\n",
       "  [-14.77975, 1.743231, 24.88822]],\n",
       " [[-14.77975, 1.743231, 24.88822],\n",
       "  [-15.01741, 0.119129, 24.88822],\n",
       "  [-14.77975, 0.119129, 24.88822]],\n",
       " [[15.01741, -5.46795, 24.88822],\n",
       "  [15.01741, -3.843249, 24.88822],\n",
       "  [14.77975, -5.46795, 24.88822]],\n",
       " [[14.77975, -5.46795, 24.88822],\n",
       "  [15.01741, -3.843249, 24.88822],\n",
       "  [14.77975, -3.843249, 24.88822]],\n",
       " [[6.764211, -0.1188298, 24.88822],\n",
       "  [6.764211, -1.782447, 24.88822],\n",
       "  [7.001871, -0.1188298, 24.88822]]]"
      ]
     },
     "execution_count": 29,
     "metadata": {},
     "output_type": "execute_result"
    }
   ],
   "source": [
    "mesh.get_corners()[:10]"
   ]
  },
  {
   "cell_type": "code",
   "execution_count": null,
   "metadata": {},
   "outputs": [],
   "source": []
  }
 ],
 "metadata": {
  "kernelspec": {
   "display_name": "venv",
   "language": "python",
   "name": "python3"
  },
  "language_info": {
   "codemirror_mode": {
    "name": "ipython",
    "version": 3
   },
   "file_extension": ".py",
   "mimetype": "text/x-python",
   "name": "python",
   "nbconvert_exporter": "python",
   "pygments_lexer": "ipython3",
   "version": "3.11.4"
  },
  "orig_nbformat": 4
 },
 "nbformat": 4,
 "nbformat_minor": 2
}
